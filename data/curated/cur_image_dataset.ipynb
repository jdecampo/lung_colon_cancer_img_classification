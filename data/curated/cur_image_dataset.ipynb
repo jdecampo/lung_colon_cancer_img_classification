{
 "cells": [
  {
   "cell_type": "code",
   "execution_count": null,
   "metadata": {},
   "outputs": [],
   "source": [
    "# Import libraries\n",
    "import os\n",
    "import os.path\n",
    "import pandas as pd\n",
    "import numpy as np\n",
    "from PIL import Image"
   ]
  },
  {
   "cell_type": "code",
   "execution_count": null,
   "metadata": {},
   "outputs": [],
   "source": [
    "# Code obtained from tiu assignment \n",
    "# Replace these paths with the actual paths to your dataset folders\n",
    "data_dir = 'data/raw/LC25000/lung_colon_image_set'\n",
    "filepaths = []\n",
    "image_data = []\n",
    "labels = []\n",
    "\n",
    "\n",
    "folds = os.listdir(data_dir)\n",
    "\n",
    "for fold in folds:\n",
    "    foldpath = os.path.join(data_dir, fold)\n",
    "    flist = os.listdir(foldpath)\n",
    "\n",
    "    for f in flist:\n",
    "        f_path = os.path.join(foldpath , f)\n",
    "        filelist = os.listdir(f_path)\n",
    "\n",
    "        for file in filelist:\n",
    "            fpath = os.path.join(f_path , file)\n",
    "            try:\n",
    "              # Open the image using PIL (or you can use OpenCV) within a 'with' statement\n",
    "              with Image.open(fpath) as image:\n",
    "                if image is not None:\n",
    "                  # Resize images\n",
    "                  im = image.resize((120,120), Image.LANCZOS)\n",
    "                  # Append image and label to respective lists\n",
    "                  image_data.append(np.array(im))\n",
    "                else:\n",
    "                  print(f\"Error opening image '{fpath}': NoneType object returned\")\n",
    "            except Exception as e:\n",
    "              print(f\"Error opening image '{fpath}': {e}\")\n",
    "            # Assign the label of the images according to the folder they belongs to.\n",
    "            if f == 'colon_aca':\n",
    "                labels.append('Colon adenocarcinoma')\n",
    "\n",
    "            elif f == 'colon_n':\n",
    "                labels.append('Colon Benign Tissue')\n",
    "\n",
    "            elif f == 'lung_aca':\n",
    "                labels.append('Lung adenocarcinoma')\n",
    "\n",
    "            elif f == 'lung_n':\n",
    "                labels.append('Lung Benign Tissue')\n",
    "\n",
    "            elif f == 'lung_scc':\n",
    "                labels.append('Lung Squamous Cell Carcinoma')\n",
    "\n",
    "tr_labels = np.array(labels)\n",
    "image_matrix = np.array([np.array(img) for img in image_data])\n",
    "\n",
    "np.save(\"data/cur/data120.npy\",image_matrix)\n",
    "np.save(\"data/cur/labels120.npy\",tr_labels)\n"
   ]
  }
 ],
 "metadata": {
  "language_info": {
   "name": "python"
  }
 },
 "nbformat": 4,
 "nbformat_minor": 2
}
